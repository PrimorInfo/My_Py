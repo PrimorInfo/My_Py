{
  "nbformat": 4,
  "nbformat_minor": 0,
  "metadata": {
    "colab": {
      "provenance": [],
      "authorship_tag": "ABX9TyOuTKrlu2emD7qso0DCN1yO",
      "include_colab_link": true
    },
    "kernelspec": {
      "name": "python3",
      "display_name": "Python 3"
    },
    "language_info": {
      "name": "python"
    }
  },
  "cells": [
    {
      "cell_type": "markdown",
      "metadata": {
        "id": "view-in-github",
        "colab_type": "text"
      },
      "source": [
        "<a href=\"https://colab.research.google.com/github/PrimorInfo/AulaInaugural/blob/main/Aula1.ipynb\" target=\"_parent\"><img src=\"https://colab.research.google.com/assets/colab-badge.svg\" alt=\"Open In Colab\"/></a>"
      ]
    },
    {
      "cell_type": "markdown",
      "source": [
        "##Olá, Mundo!\n"
      ],
      "metadata": {
        "id": "lYgGJyMDvaan"
      }
    },
    {
      "cell_type": "markdown",
      "source": [
        "> Nosso primeiro comando em Python\n"
      ],
      "metadata": {
        "id": "4bJCNC1_v_Dk"
      }
    },
    {
      "cell_type": "code",
      "source": [
        "print('hello, World!')"
      ],
      "metadata": {
        "colab": {
          "base_uri": "https://localhost:8080/"
        },
        "id": "koFV3bCxwi2L",
        "outputId": "747b991b-c7ea-4650-a7c7-b1dabbcbbaf3"
      },
      "execution_count": null,
      "outputs": [
        {
          "output_type": "stream",
          "name": "stdout",
          "text": [
            "hello, World!\n"
          ]
        }
      ]
    },
    {
      "cell_type": "markdown",
      "source": [
        "##String"
      ],
      "metadata": {
        "id": "khYO2oVmwzTj"
      }
    },
    {
      "cell_type": "markdown",
      "source": [
        "Concatenação com operador +"
      ],
      "metadata": {
        "id": "lFlo4nz-w5DU"
      }
    },
    {
      "cell_type": "code",
      "source": [
        "print(\"Curso\" + \" de Python\")\n"
      ],
      "metadata": {
        "colab": {
          "base_uri": "https://localhost:8080/"
        },
        "id": "qJFjP5O4xKHC",
        "outputId": "c23f522d-63e1-4603-be3f-c7e72cb675ed"
      },
      "execution_count": null,
      "outputs": [
        {
          "output_type": "stream",
          "name": "stdout",
          "text": [
            "Curso de Python\n"
          ]
        }
      ]
    },
    {
      "cell_type": "markdown",
      "source": [
        "Substituindo valores com format()\n"
      ],
      "metadata": {
        "id": "LyS8A9v70Ejf"
      }
    },
    {
      "cell_type": "code",
      "source": [
        "print(\"Aula {} do Curso de {}\".format(1, \"Python\"))"
      ],
      "metadata": {
        "colab": {
          "base_uri": "https://localhost:8080/"
        },
        "id": "F1LJPckh0QSl",
        "outputId": "1b637d47-0a91-4187-b001-676154fce347"
      },
      "execution_count": null,
      "outputs": [
        {
          "output_type": "stream",
          "name": "stdout",
          "text": [
            "Aula 1 do Curso de Python\n"
          ]
        }
      ]
    },
    {
      "cell_type": "markdown",
      "source": [
        "Transformando para letras minúsculas com lower()\n"
      ],
      "metadata": {
        "id": "yml8OWt11EnP"
      }
    },
    {
      "cell_type": "code",
      "source": [
        "print(\"Curso de Python para iniciantes\".lower())"
      ],
      "metadata": {
        "colab": {
          "base_uri": "https://localhost:8080/"
        },
        "id": "nQWGOq2e1MhD",
        "outputId": "0fbd729c-3b58-435d-cfc7-9c947a7ddc04"
      },
      "execution_count": null,
      "outputs": [
        {
          "output_type": "stream",
          "name": "stdout",
          "text": [
            "curso de python para iniciantes\n"
          ]
        }
      ]
    },
    {
      "cell_type": "markdown",
      "source": [
        "Transformando para letras maiúsculas com upper()"
      ],
      "metadata": {
        "id": "vqeQpSn-1cOq"
      }
    },
    {
      "cell_type": "code",
      "source": [
        "print(\"curso de python para iniciantes\".upper())"
      ],
      "metadata": {
        "colab": {
          "base_uri": "https://localhost:8080/"
        },
        "id": "ZmIVtEIT1p5F",
        "outputId": "2548769d-db71-4d0f-ef9d-947f416af00e"
      },
      "execution_count": null,
      "outputs": [
        {
          "output_type": "stream",
          "name": "stdout",
          "text": [
            "CURSO DE PYTHON PARA INICIANTES\n"
          ]
        }
      ]
    },
    {
      "cell_type": "markdown",
      "source": [
        "Removendo espaços com comando strip()"
      ],
      "metadata": {
        "id": "OC9WnfeY19VQ"
      }
    },
    {
      "cell_type": "code",
      "source": [
        "print(\"     Curso de Python          \".strip())"
      ],
      "metadata": {
        "colab": {
          "base_uri": "https://localhost:8080/"
        },
        "id": "dcqSlyOR2C4B",
        "outputId": "1eeb6593-c9c2-44e3-8d75-3c40986c4853"
      },
      "execution_count": null,
      "outputs": [
        {
          "output_type": "stream",
          "name": "stdout",
          "text": [
            "Curso de Python\n"
          ]
        }
      ]
    },
    {
      "cell_type": "markdown",
      "source": [
        "O tipo \"str\""
      ],
      "metadata": {
        "id": "qxQys6Nz2TQM"
      }
    },
    {
      "cell_type": "code",
      "source": [
        "type(\"Curso de Python para iniciantes\")"
      ],
      "metadata": {
        "colab": {
          "base_uri": "https://localhost:8080/"
        },
        "id": "BVeNu9bX2fhR",
        "outputId": "42d874a7-8513-46a2-e8fc-e82c21514b49"
      },
      "execution_count": null,
      "outputs": [
        {
          "output_type": "execute_result",
          "data": {
            "text/plain": [
              "str"
            ]
          },
          "metadata": {},
          "execution_count": 12
        }
      ]
    },
    {
      "cell_type": "markdown",
      "source": [
        "Lidando com números e operadores Matemáticos"
      ],
      "metadata": {
        "id": "hMGB9akJ2sz8"
      }
    },
    {
      "cell_type": "markdown",
      "source": [
        "Tipos Numéricos"
      ],
      "metadata": {
        "id": "V3Kh99Z923fk"
      }
    },
    {
      "cell_type": "code",
      "source": [
        "type(2)"
      ],
      "metadata": {
        "colab": {
          "base_uri": "https://localhost:8080/"
        },
        "id": "zuMDnHCm2697",
        "outputId": "ab0d7cb3-4923-4a63-8916-0398abc2d0a3"
      },
      "execution_count": null,
      "outputs": [
        {
          "output_type": "execute_result",
          "data": {
            "text/plain": [
              "int"
            ]
          },
          "metadata": {},
          "execution_count": 13
        }
      ]
    },
    {
      "cell_type": "code",
      "source": [
        "type(2.5)"
      ],
      "metadata": {
        "colab": {
          "base_uri": "https://localhost:8080/"
        },
        "id": "QaxQD-NR3Ai9",
        "outputId": "9373a991-ddc4-491f-9ac4-a10fb8e8b53d"
      },
      "execution_count": null,
      "outputs": [
        {
          "output_type": "execute_result",
          "data": {
            "text/plain": [
              "float"
            ]
          },
          "metadata": {},
          "execution_count": 14
        }
      ]
    },
    {
      "cell_type": "markdown",
      "source": [
        "Soma"
      ],
      "metadata": {
        "id": "9x61ZjTp3M_L"
      }
    },
    {
      "cell_type": "code",
      "source": [
        "2+2"
      ],
      "metadata": {
        "colab": {
          "base_uri": "https://localhost:8080/"
        },
        "id": "tKal5iV53Ots",
        "outputId": "f6d3b1a6-013d-4c1f-eb2f-4bb58c5b29d3"
      },
      "execution_count": null,
      "outputs": [
        {
          "output_type": "execute_result",
          "data": {
            "text/plain": [
              "4"
            ]
          },
          "metadata": {},
          "execution_count": 15
        }
      ]
    },
    {
      "cell_type": "markdown",
      "source": [
        "Subtração"
      ],
      "metadata": {
        "id": "lJUIQXFV3Ruq"
      }
    },
    {
      "cell_type": "code",
      "source": [
        "10-5"
      ],
      "metadata": {
        "colab": {
          "base_uri": "https://localhost:8080/"
        },
        "id": "A7jC_7333TZi",
        "outputId": "1a1d9022-f953-4c6e-ff7a-cb17e85666dd"
      },
      "execution_count": null,
      "outputs": [
        {
          "output_type": "execute_result",
          "data": {
            "text/plain": [
              "5"
            ]
          },
          "metadata": {},
          "execution_count": 16
        }
      ]
    },
    {
      "cell_type": "markdown",
      "source": [
        "Multiplicação"
      ],
      "metadata": {
        "id": "3S-sBD6L3XF6"
      }
    },
    {
      "cell_type": "code",
      "source": [
        "7*3"
      ],
      "metadata": {
        "colab": {
          "base_uri": "https://localhost:8080/"
        },
        "id": "hUqP4tl43Y1y",
        "outputId": "595c6da6-4070-4f55-bf95-0cf8af0fe22e"
      },
      "execution_count": null,
      "outputs": [
        {
          "output_type": "execute_result",
          "data": {
            "text/plain": [
              "21"
            ]
          },
          "metadata": {},
          "execution_count": 17
        }
      ]
    },
    {
      "cell_type": "markdown",
      "source": [
        "Exponenciação"
      ],
      "metadata": {
        "id": "mPVHVYew3bHf"
      }
    },
    {
      "cell_type": "code",
      "source": [
        "5**2"
      ],
      "metadata": {
        "id": "0Jir5dFM3dkk",
        "colab": {
          "base_uri": "https://localhost:8080/"
        },
        "outputId": "a73e80ae-22b0-4183-ca8b-b4e2509f8a65"
      },
      "execution_count": 1,
      "outputs": [
        {
          "output_type": "execute_result",
          "data": {
            "text/plain": [
              "25"
            ]
          },
          "metadata": {},
          "execution_count": 1
        }
      ]
    },
    {
      "cell_type": "markdown",
      "source": [
        "Divisão"
      ],
      "metadata": {
        "id": "ezzarJHG3hdC"
      }
    },
    {
      "cell_type": "code",
      "source": [
        "5/2"
      ],
      "metadata": {
        "colab": {
          "base_uri": "https://localhost:8080/"
        },
        "id": "7XX8C9lf3jSn",
        "outputId": "2feb3f52-0f69-49e2-b7de-b6c81f686ac2"
      },
      "execution_count": null,
      "outputs": [
        {
          "output_type": "execute_result",
          "data": {
            "text/plain": [
              "2.5"
            ]
          },
          "metadata": {},
          "execution_count": 18
        }
      ]
    },
    {
      "cell_type": "code",
      "source": [
        "type(5/2)"
      ],
      "metadata": {
        "colab": {
          "base_uri": "https://localhost:8080/"
        },
        "id": "NuJBYLwy3oXN",
        "outputId": "54124028-1373-461e-e42e-4f01f5cb5179"
      },
      "execution_count": null,
      "outputs": [
        {
          "output_type": "execute_result",
          "data": {
            "text/plain": [
              "float"
            ]
          },
          "metadata": {},
          "execution_count": 19
        }
      ]
    },
    {
      "cell_type": "markdown",
      "source": [
        "Divisão Inteira"
      ],
      "metadata": {
        "id": "YhkFvVpb3tJv"
      }
    },
    {
      "cell_type": "code",
      "source": [
        "5//2"
      ],
      "metadata": {
        "colab": {
          "base_uri": "https://localhost:8080/"
        },
        "id": "YxGgvwST3v1q",
        "outputId": "14694daf-790d-41c8-8890-2b691a1ba0a9"
      },
      "execution_count": null,
      "outputs": [
        {
          "output_type": "execute_result",
          "data": {
            "text/plain": [
              "2"
            ]
          },
          "metadata": {},
          "execution_count": 20
        }
      ]
    },
    {
      "cell_type": "markdown",
      "source": [
        "Resto da Divisão"
      ],
      "metadata": {
        "id": "uOf5JFpc33H0"
      }
    },
    {
      "cell_type": "code",
      "source": [
        "5 % 2"
      ],
      "metadata": {
        "colab": {
          "base_uri": "https://localhost:8080/"
        },
        "id": "xicjbgSq37FW",
        "outputId": "0d1a1846-4d83-4d17-adcb-1e0d0cb40317"
      },
      "execution_count": null,
      "outputs": [
        {
          "output_type": "execute_result",
          "data": {
            "text/plain": [
              "1"
            ]
          },
          "metadata": {},
          "execution_count": 21
        }
      ]
    },
    {
      "cell_type": "markdown",
      "source": [
        "Expressões"
      ],
      "metadata": {
        "id": "rU0HQtbx4DXH"
      }
    },
    {
      "cell_type": "code",
      "source": [
        "10-5+20-4"
      ],
      "metadata": {
        "colab": {
          "base_uri": "https://localhost:8080/"
        },
        "id": "_ZxJdm4h4FRz",
        "outputId": "c5b3d922-f7fa-4fc3-cca1-22d17cfbdafa"
      },
      "execution_count": null,
      "outputs": [
        {
          "output_type": "execute_result",
          "data": {
            "text/plain": [
              "21"
            ]
          },
          "metadata": {},
          "execution_count": 22
        }
      ]
    },
    {
      "cell_type": "code",
      "source": [
        "((2+3)*(4-2)) ** 2"
      ],
      "metadata": {
        "colab": {
          "base_uri": "https://localhost:8080/"
        },
        "id": "Sj2zu8NE5mUY",
        "outputId": "a28d59ae-7236-40d7-e9d4-cdb01de6afbf"
      },
      "execution_count": null,
      "outputs": [
        {
          "output_type": "execute_result",
          "data": {
            "text/plain": [
              "100"
            ]
          },
          "metadata": {},
          "execution_count": 24
        }
      ]
    },
    {
      "cell_type": "markdown",
      "source": [
        "##Variáveis"
      ],
      "metadata": {
        "id": "pyKYhmhFVuN0"
      }
    },
    {
      "cell_type": "markdown",
      "source": [
        "Variáveis de texto"
      ],
      "metadata": {
        "id": "GlxXd4cQVz3k"
      }
    },
    {
      "cell_type": "code",
      "source": [
        "texto ='Curso de Pytohn para iniciantes'"
      ],
      "metadata": {
        "id": "VhYizAS8W4Fg"
      },
      "execution_count": 3,
      "outputs": []
    },
    {
      "cell_type": "code",
      "source": [
        "texto"
      ],
      "metadata": {
        "colab": {
          "base_uri": "https://localhost:8080/",
          "height": 35
        },
        "id": "SbgFiMwUWmpx",
        "outputId": "df79a8b8-bebf-4ba7-910d-55571c1fbb4d"
      },
      "execution_count": 4,
      "outputs": [
        {
          "output_type": "execute_result",
          "data": {
            "text/plain": [
              "'Curso de Pytohn para iniciantes'"
            ],
            "application/vnd.google.colaboratory.intrinsic+json": {
              "type": "string"
            }
          },
          "metadata": {},
          "execution_count": 4
        }
      ]
    },
    {
      "cell_type": "code",
      "source": [
        "texto = texto + \" - Aula 02\"\n",
        "texto"
      ],
      "metadata": {
        "colab": {
          "base_uri": "https://localhost:8080/",
          "height": 35
        },
        "id": "7txKUdAlXMw3",
        "outputId": "d609c796-a20b-4c09-d857-e5cece4988cd"
      },
      "execution_count": 8,
      "outputs": [
        {
          "output_type": "execute_result",
          "data": {
            "text/plain": [
              "'Curso de Pytohn para iniciantes - Aula 02 - Aula 02 - Aula 02 - Aula 02'"
            ],
            "application/vnd.google.colaboratory.intrinsic+json": {
              "type": "string"
            }
          },
          "metadata": {},
          "execution_count": 8
        }
      ]
    },
    {
      "cell_type": "markdown",
      "source": [
        "Variáveis numéricas"
      ],
      "metadata": {
        "id": "nYeAWH5YX8On"
      }
    },
    {
      "cell_type": "code",
      "source": [
        "soma = 0\n",
        "soma"
      ],
      "metadata": {
        "colab": {
          "base_uri": "https://localhost:8080/"
        },
        "id": "YfZcqA49YCk2",
        "outputId": "38cef938-3c26-4683-a44b-81834283c244"
      },
      "execution_count": 9,
      "outputs": [
        {
          "output_type": "execute_result",
          "data": {
            "text/plain": [
              "0"
            ]
          },
          "metadata": {},
          "execution_count": 9
        }
      ]
    },
    {
      "cell_type": "markdown",
      "source": [
        "Incremento/Decremento"
      ],
      "metadata": {
        "id": "yLVPuAzCYKRn"
      }
    },
    {
      "cell_type": "code",
      "source": [
        "soma = soma + 1\n",
        "soma"
      ],
      "metadata": {
        "colab": {
          "base_uri": "https://localhost:8080/"
        },
        "id": "gNqfu3KPYOH_",
        "outputId": "cd4aed72-e7f8-42e9-d76d-e4d241f800c7"
      },
      "execution_count": 10,
      "outputs": [
        {
          "output_type": "execute_result",
          "data": {
            "text/plain": [
              "1"
            ]
          },
          "metadata": {},
          "execution_count": 10
        }
      ]
    },
    {
      "cell_type": "code",
      "source": [
        "soma += 1\n",
        "soma"
      ],
      "metadata": {
        "colab": {
          "base_uri": "https://localhost:8080/"
        },
        "id": "A783WG6eYWrU",
        "outputId": "1c4e4e70-692a-4900-dbc1-8d88c5cea875"
      },
      "execution_count": 12,
      "outputs": [
        {
          "output_type": "execute_result",
          "data": {
            "text/plain": [
              "2"
            ]
          },
          "metadata": {},
          "execution_count": 12
        }
      ]
    },
    {
      "cell_type": "code",
      "source": [
        "soma -=1\n",
        "soma"
      ],
      "metadata": {
        "colab": {
          "base_uri": "https://localhost:8080/"
        },
        "id": "K13Ev7gwYlJ2",
        "outputId": "4a80e0a1-ef55-4f7d-be07-c0ded34a6f9f"
      },
      "execution_count": 13,
      "outputs": [
        {
          "output_type": "execute_result",
          "data": {
            "text/plain": [
              "1"
            ]
          },
          "metadata": {},
          "execution_count": 13
        }
      ]
    },
    {
      "cell_type": "code",
      "source": [
        "soma = soma - 1\n",
        "soma"
      ],
      "metadata": {
        "colab": {
          "base_uri": "https://localhost:8080/"
        },
        "id": "hhquXlJqYxWj",
        "outputId": "2793c231-25df-43ab-ed7f-561770fc71db"
      },
      "execution_count": 14,
      "outputs": [
        {
          "output_type": "execute_result",
          "data": {
            "text/plain": [
              "0"
            ]
          },
          "metadata": {},
          "execution_count": 14
        }
      ]
    },
    {
      "cell_type": "markdown",
      "source": [
        "##Listas"
      ],
      "metadata": {
        "id": "c4JOcKw3Y8je"
      }
    },
    {
      "cell_type": "markdown",
      "source": [
        "Criando e selecionando elementos"
      ],
      "metadata": {
        "id": "Fh1ZBp1iZBnK"
      }
    },
    {
      "cell_type": "code",
      "source": [
        "frutas = ['maca', 'banana', 'laranja']\n",
        "frutas"
      ],
      "metadata": {
        "colab": {
          "base_uri": "https://localhost:8080/"
        },
        "id": "-PosSeHtZGhi",
        "outputId": "7fcd0e25-075a-46b0-dad1-b9ee7dcbf791"
      },
      "execution_count": 15,
      "outputs": [
        {
          "output_type": "execute_result",
          "data": {
            "text/plain": [
              "['maca', 'banana', 'laranja']"
            ]
          },
          "metadata": {},
          "execution_count": 15
        }
      ]
    },
    {
      "cell_type": "code",
      "source": [
        "frutas[2]"
      ],
      "metadata": {
        "colab": {
          "base_uri": "https://localhost:8080/",
          "height": 35
        },
        "id": "DselwrhpZTgU",
        "outputId": "9d428393-baa4-45f3-c357-4a37387ca493"
      },
      "execution_count": 17,
      "outputs": [
        {
          "output_type": "execute_result",
          "data": {
            "text/plain": [
              "'laranja'"
            ],
            "application/vnd.google.colaboratory.intrinsic+json": {
              "type": "string"
            }
          },
          "metadata": {},
          "execution_count": 17
        }
      ]
    },
    {
      "cell_type": "code",
      "source": [
        "numeros = [1,2,3,4,5,6]\n",
        "numeros"
      ],
      "metadata": {
        "colab": {
          "base_uri": "https://localhost:8080/"
        },
        "id": "vPtxH8dnZgNp",
        "outputId": "d1dfcd08-60a8-41fa-84af-a595f6c72e16"
      },
      "execution_count": 18,
      "outputs": [
        {
          "output_type": "execute_result",
          "data": {
            "text/plain": [
              "[1, 2, 3, 4, 5, 6]"
            ]
          },
          "metadata": {},
          "execution_count": 18
        }
      ]
    },
    {
      "cell_type": "code",
      "source": [
        "lista = ['a', 'b', 'c', frutas, numeros]\n",
        "lista"
      ],
      "metadata": {
        "colab": {
          "base_uri": "https://localhost:8080/"
        },
        "id": "yP0cQdjsZpBz",
        "outputId": "55eb36f7-d1a3-46e6-9226-8d26a2472b21"
      },
      "execution_count": 19,
      "outputs": [
        {
          "output_type": "execute_result",
          "data": {
            "text/plain": [
              "['a', 'b', 'c', ['maca', 'banana', 'laranja'], [1, 2, 3, 4, 5, 6]]"
            ]
          },
          "metadata": {},
          "execution_count": 19
        }
      ]
    },
    {
      "cell_type": "code",
      "source": [
        "lista[3]"
      ],
      "metadata": {
        "colab": {
          "base_uri": "https://localhost:8080/"
        },
        "id": "Z9Wfp45RZ2YL",
        "outputId": "7c0bdfc3-9c6d-458d-8251-69cf303d8a0c"
      },
      "execution_count": 23,
      "outputs": [
        {
          "output_type": "execute_result",
          "data": {
            "text/plain": [
              "['maca', 'banana', 'laranja']"
            ]
          },
          "metadata": {},
          "execution_count": 23
        }
      ]
    },
    {
      "cell_type": "code",
      "source": [
        "lista[3][2]"
      ],
      "metadata": {
        "colab": {
          "base_uri": "https://localhost:8080/",
          "height": 35
        },
        "id": "51oPS1gKaE4x",
        "outputId": "da0af56b-9ec4-4880-8114-77bfa5055b9f"
      },
      "execution_count": 25,
      "outputs": [
        {
          "output_type": "execute_result",
          "data": {
            "text/plain": [
              "'laranja'"
            ],
            "application/vnd.google.colaboratory.intrinsic+json": {
              "type": "string"
            }
          },
          "metadata": {},
          "execution_count": 25
        }
      ]
    },
    {
      "cell_type": "code",
      "source": [
        "lista[:2]"
      ],
      "metadata": {
        "colab": {
          "base_uri": "https://localhost:8080/"
        },
        "id": "NLlCwNAqaNY_",
        "outputId": "a567257e-cd7a-441d-e06b-1cc83fbd7ea2"
      },
      "execution_count": 26,
      "outputs": [
        {
          "output_type": "execute_result",
          "data": {
            "text/plain": [
              "['a', 'b']"
            ]
          },
          "metadata": {},
          "execution_count": 26
        }
      ]
    },
    {
      "cell_type": "code",
      "source": [
        "lista[2:]"
      ],
      "metadata": {
        "colab": {
          "base_uri": "https://localhost:8080/"
        },
        "id": "0ai-GOgYaUZr",
        "outputId": "b0eae3dc-e7a2-40ad-9a56-c4c79e105eef"
      },
      "execution_count": 28,
      "outputs": [
        {
          "output_type": "execute_result",
          "data": {
            "text/plain": [
              "['c', ['maca', 'banana', 'laranja'], [1, 2, 3, 4, 5, 6]]"
            ]
          },
          "metadata": {},
          "execution_count": 28
        }
      ]
    },
    {
      "cell_type": "code",
      "source": [
        "lista[2:4]"
      ],
      "metadata": {
        "colab": {
          "base_uri": "https://localhost:8080/"
        },
        "id": "O-ChuPfoacsg",
        "outputId": "bc1a340e-9e61-4764-8e5f-081973d30048"
      },
      "execution_count": 29,
      "outputs": [
        {
          "output_type": "execute_result",
          "data": {
            "text/plain": [
              "['c', ['maca', 'banana', 'laranja']]"
            ]
          },
          "metadata": {},
          "execution_count": 29
        }
      ]
    },
    {
      "cell_type": "markdown",
      "source": [
        "Adicionando e removendo elementos de uma lista"
      ],
      "metadata": {
        "id": "vZS5m6oqaiyA"
      }
    },
    {
      "cell_type": "code",
      "source": [
        "frutas.append('goiaba')\n",
        "frutas"
      ],
      "metadata": {
        "colab": {
          "base_uri": "https://localhost:8080/"
        },
        "id": "1HEOGD79am67",
        "outputId": "467f5ea1-aa44-47a0-b739-67d95efa33cf"
      },
      "execution_count": 32,
      "outputs": [
        {
          "output_type": "execute_result",
          "data": {
            "text/plain": [
              "['maca', 'banana', 'laranja', 'goiaba', 'goiaba']"
            ]
          },
          "metadata": {},
          "execution_count": 32
        }
      ]
    },
    {
      "cell_type": "code",
      "source": [
        "frutas.pop()\n",
        "frutas"
      ],
      "metadata": {
        "colab": {
          "base_uri": "https://localhost:8080/"
        },
        "id": "0U7trfGra-_R",
        "outputId": "d2e0f047-1a55-4e74-e68d-47a0b9eff268"
      },
      "execution_count": 34,
      "outputs": [
        {
          "output_type": "execute_result",
          "data": {
            "text/plain": [
              "['maca', 'banana', 'laranja']"
            ]
          },
          "metadata": {},
          "execution_count": 34
        }
      ]
    },
    {
      "cell_type": "code",
      "source": [
        "frutas.pop(0)\n",
        "frutas"
      ],
      "metadata": {
        "colab": {
          "base_uri": "https://localhost:8080/"
        },
        "id": "lFmh2Df9bRhv",
        "outputId": "23b0ff26-1e57-4dc6-b3e3-fc383660f777"
      },
      "execution_count": 35,
      "outputs": [
        {
          "output_type": "execute_result",
          "data": {
            "text/plain": [
              "['banana', 'laranja']"
            ]
          },
          "metadata": {},
          "execution_count": 35
        }
      ]
    },
    {
      "cell_type": "markdown",
      "source": [
        "Alterando elementos"
      ],
      "metadata": {
        "id": "etnofaSGbcGg"
      }
    },
    {
      "cell_type": "code",
      "source": [
        "frutas[0] = 'pera'\n",
        "frutas"
      ],
      "metadata": {
        "colab": {
          "base_uri": "https://localhost:8080/"
        },
        "id": "j2o1A9eJblHc",
        "outputId": "b8b453fb-f520-4773-97a1-493bb6a61815"
      },
      "execution_count": 36,
      "outputs": [
        {
          "output_type": "execute_result",
          "data": {
            "text/plain": [
              "['pera', 'laranja']"
            ]
          },
          "metadata": {},
          "execution_count": 36
        }
      ]
    },
    {
      "cell_type": "markdown",
      "source": [
        "##Tuplas"
      ],
      "metadata": {
        "id": "6HhiWrrgb2qF"
      }
    },
    {
      "cell_type": "code",
      "source": [
        "marcas = 'gm', 'ford', 'fiat', 'vw'\n",
        "marcas"
      ],
      "metadata": {
        "colab": {
          "base_uri": "https://localhost:8080/"
        },
        "id": "McEEpLsEb6Fz",
        "outputId": "24a3b8e4-7ed9-41a0-c16f-45766f33d65e"
      },
      "execution_count": 37,
      "outputs": [
        {
          "output_type": "execute_result",
          "data": {
            "text/plain": [
              "('gm', 'ford', 'fiat', 'vw')"
            ]
          },
          "metadata": {},
          "execution_count": 37
        }
      ]
    },
    {
      "cell_type": "code",
      "source": [
        "marcas[2]"
      ],
      "metadata": {
        "colab": {
          "base_uri": "https://localhost:8080/",
          "height": 35
        },
        "id": "Bwz6uehHcHAT",
        "outputId": "27ddc6f9-35f9-4706-c479-f8745b3f6b02"
      },
      "execution_count": 39,
      "outputs": [
        {
          "output_type": "execute_result",
          "data": {
            "text/plain": [
              "'fiat'"
            ],
            "application/vnd.google.colaboratory.intrinsic+json": {
              "type": "string"
            }
          },
          "metadata": {},
          "execution_count": 39
        }
      ]
    },
    {
      "cell_type": "markdown",
      "source": [
        "A diferença principal entre listas e Tlupas é que os elementos de Tupla não podem ser alterados. Veja exemplo abaixo:\n"
      ],
      "metadata": {
        "id": "L8iDCE-qcbDc"
      }
    },
    {
      "cell_type": "code",
      "source": [
        "marcas[0] = 'ferrari'"
      ],
      "metadata": {
        "colab": {
          "base_uri": "https://localhost:8080/",
          "height": 175
        },
        "id": "m7BLYG4hcnry",
        "outputId": "ad38790e-7e98-48d5-b4f1-5d8a79ebba01"
      },
      "execution_count": 40,
      "outputs": [
        {
          "output_type": "error",
          "ename": "TypeError",
          "evalue": "ignored",
          "traceback": [
            "\u001b[0;31m---------------------------------------------------------------------------\u001b[0m",
            "\u001b[0;31mTypeError\u001b[0m                                 Traceback (most recent call last)",
            "\u001b[0;32m<ipython-input-40-6e451b28c77b>\u001b[0m in \u001b[0;36m<cell line: 1>\u001b[0;34m()\u001b[0m\n\u001b[0;32m----> 1\u001b[0;31m \u001b[0mmarcas\u001b[0m\u001b[0;34m[\u001b[0m\u001b[0;36m0\u001b[0m\u001b[0;34m]\u001b[0m \u001b[0;34m=\u001b[0m \u001b[0;34m'ferrari'\u001b[0m\u001b[0;34m\u001b[0m\u001b[0;34m\u001b[0m\u001b[0m\n\u001b[0m",
            "\u001b[0;31mTypeError\u001b[0m: 'tuple' object does not support item assignment"
          ]
        }
      ]
    },
    {
      "cell_type": "markdown",
      "source": [
        "##Dicionários"
      ],
      "metadata": {
        "id": "LeGkV4fSc4Kk"
      }
    },
    {
      "cell_type": "markdown",
      "source": [],
      "metadata": {
        "id": "-5QUgyMkc73C"
      }
    }
  ]
}