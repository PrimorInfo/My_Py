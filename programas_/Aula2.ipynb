{
  "cells": [
    {
      "cell_type": "markdown",
      "metadata": {
        "colab_type": "text",
        "id": "view-in-github"
      },
      "source": [
        "<a href=\"https://colab.research.google.com/github/PrimorInfo/AulaInaugural/blob/main/Aula2.ipynb\" target=\"_parent\"><img src=\"https://colab.research.google.com/assets/colab-badge.svg\" alt=\"Open In Colab\"/></a>"
      ]
    },
    {
      "cell_type": "markdown",
      "metadata": {
        "id": "mgziU0W8DFha"
      },
      "source": [
        "##Dicionários"
      ]
    },
    {
      "cell_type": "code",
      "execution_count": 1,
      "metadata": {
        "colab": {
          "base_uri": "https://localhost:8080/"
        },
        "id": "SSXNaGfKDIMy",
        "outputId": "e453e614-3ceb-4f61-dc5f-79b31a8a174b"
      },
      "outputs": [
        {
          "data": {
            "text/plain": [
              "{'portugues': 8, 'ingles': 7.4, 'matematica': 9}"
            ]
          },
          "execution_count": 1,
          "metadata": {},
          "output_type": "execute_result"
        }
      ],
      "source": [
        "notas ={'portugues': 8, 'ingles': 7.4, 'matematica': 9}\n",
        "notas"
      ]
    },
    {
      "cell_type": "code",
      "execution_count": 2,
      "metadata": {
        "colab": {
          "base_uri": "https://localhost:8080/"
        },
        "id": "tpxGT77IDPo7",
        "outputId": "4747c988-f01f-41f6-ce51-a199395c2652"
      },
      "outputs": [
        {
          "data": {
            "text/plain": [
              "{'nome': 'Joao', 'idade': 35, 'profissao': 'pintor'}"
            ]
          },
          "execution_count": 2,
          "metadata": {},
          "output_type": "execute_result"
        }
      ],
      "source": [
        "pessoa = {'nome': 'Joao', 'idade': 35, 'profissao': 'pintor'}\n",
        "pessoa"
      ]
    },
    {
      "cell_type": "code",
      "execution_count": 3,
      "metadata": {
        "colab": {
          "base_uri": "https://localhost:8080/"
        },
        "id": "wxyrsuDUDXxw",
        "outputId": "7f548b93-59af-4933-e338-be710c35a3ac"
      },
      "outputs": [
        {
          "data": {
            "text/plain": [
              "{1: 'Flamengo', 2: 'São Paulo', 3: 'Grêmio'}"
            ]
          },
          "execution_count": 3,
          "metadata": {},
          "output_type": "execute_result"
        }
      ],
      "source": [
        "times = {1:'Flamengo', 2: 'São Paulo', 3: 'Grêmio'}\n",
        "times"
      ]
    },
    {
      "cell_type": "markdown",
      "metadata": {
        "id": "mWuJ_1sPDbs8"
      },
      "source": [
        ">Selecionando Elementos"
      ]
    },
    {
      "cell_type": "code",
      "execution_count": 5,
      "metadata": {
        "colab": {
          "base_uri": "https://localhost:8080/"
        },
        "id": "PKjDanB2Dfby",
        "outputId": "24a9b215-1028-4d84-9f43-0866b459f46b"
      },
      "outputs": [
        {
          "data": {
            "text/plain": [
              "9"
            ]
          },
          "execution_count": 5,
          "metadata": {},
          "output_type": "execute_result"
        }
      ],
      "source": [
        "notas['matematica']"
      ]
    },
    {
      "cell_type": "code",
      "execution_count": 6,
      "metadata": {
        "colab": {
          "base_uri": "https://localhost:8080/",
          "height": 35
        },
        "id": "Gt9qyzNdD1HH",
        "outputId": "9756dc95-2cdd-45f5-8132-574cbda78eaf"
      },
      "outputs": [
        {
          "data": {
            "application/vnd.google.colaboratory.intrinsic+json": {
              "type": "string"
            },
            "text/plain": [
              "'Joao'"
            ]
          },
          "execution_count": 6,
          "metadata": {},
          "output_type": "execute_result"
        }
      ],
      "source": [
        "pessoa['nome']"
      ]
    },
    {
      "cell_type": "code",
      "execution_count": 7,
      "metadata": {
        "colab": {
          "base_uri": "https://localhost:8080/",
          "height": 35
        },
        "id": "9e7bZx_rD7Uf",
        "outputId": "8a2dd0b0-655a-4fbc-f6de-44a1288210d3"
      },
      "outputs": [
        {
          "data": {
            "application/vnd.google.colaboratory.intrinsic+json": {
              "type": "string"
            },
            "text/plain": [
              "'São Paulo'"
            ]
          },
          "execution_count": 7,
          "metadata": {},
          "output_type": "execute_result"
        }
      ],
      "source": [
        "times[2]"
      ]
    },
    {
      "cell_type": "markdown",
      "metadata": {
        "id": "DU2xiZVeEA5z"
      },
      "source": [
        ">Alterando Elementos"
      ]
    },
    {
      "cell_type": "code",
      "execution_count": 9,
      "metadata": {
        "colab": {
          "base_uri": "https://localhost:8080/"
        },
        "id": "0aiXCDnwEIxp",
        "outputId": "3203934c-6ab3-4bdd-fba3-cd6014a78802"
      },
      "outputs": [
        {
          "data": {
            "text/plain": [
              "{'portugues': 8, 'ingles': 7.4, 'matematica': 10}"
            ]
          },
          "execution_count": 9,
          "metadata": {},
          "output_type": "execute_result"
        }
      ],
      "source": [
        "notas['matematica'] = 10\n",
        "notas"
      ]
    },
    {
      "cell_type": "code",
      "execution_count": 12,
      "metadata": {
        "colab": {
          "base_uri": "https://localhost:8080/"
        },
        "id": "r60xNeTVEYtW",
        "outputId": "9804ea41-5923-4b7a-9a27-edf3a611cd2d"
      },
      "outputs": [
        {
          "data": {
            "text/plain": [
              "{1: 'Flamengo', 2: 'Palmeiras', 3: 'Grêmio'}"
            ]
          },
          "execution_count": 12,
          "metadata": {},
          "output_type": "execute_result"
        }
      ],
      "source": [
        "times[2] = 'Palmeiras'\n",
        "times"
      ]
    },
    {
      "cell_type": "markdown",
      "metadata": {
        "id": "Oq-8RhjhEwe-"
      },
      "source": [
        ">Adicionando Elementos"
      ]
    },
    {
      "cell_type": "code",
      "execution_count": 13,
      "metadata": {
        "colab": {
          "base_uri": "https://localhost:8080/"
        },
        "id": "5J8k0g2REzc3",
        "outputId": "4c75d51d-97a1-4515-efcc-4e37adefe52b"
      },
      "outputs": [
        {
          "data": {
            "text/plain": [
              "{'portugues': 8, 'ingles': 7.4, 'matematica': 10, 'Geografia': 7.1}"
            ]
          },
          "execution_count": 13,
          "metadata": {},
          "output_type": "execute_result"
        }
      ],
      "source": [
        "notas['Geografia'] = 7.1\n",
        "notas"
      ]
    },
    {
      "cell_type": "code",
      "execution_count": 14,
      "metadata": {
        "colab": {
          "base_uri": "https://localhost:8080/"
        },
        "id": "5ngE8k2PE_4s",
        "outputId": "96f35586-d1dd-42dd-e6a7-9c32d6743e0a"
      },
      "outputs": [
        {
          "data": {
            "text/plain": [
              "{1: 'Flamengo', 2: 'Palmeiras', 3: 'Grêmio', 85: 'Vasco'}"
            ]
          },
          "execution_count": 14,
          "metadata": {},
          "output_type": "execute_result"
        }
      ],
      "source": [
        "times[85] = 'Vasco'\n",
        "times"
      ]
    },
    {
      "cell_type": "markdown",
      "metadata": {
        "id": "C7Q35i7AFO9U"
      },
      "source": [
        "##If / Else"
      ]
    },
    {
      "cell_type": "code",
      "execution_count": 16,
      "metadata": {
        "id": "eiyjpxSsFT0W"
      },
      "outputs": [],
      "source": [
        "x = 1\n",
        "y = 5"
      ]
    },
    {
      "cell_type": "markdown",
      "metadata": {
        "id": "JCzgbFsxFadL"
      },
      "source": [
        ">Operadores Lógicos"
      ]
    },
    {
      "cell_type": "code",
      "execution_count": 17,
      "metadata": {
        "colab": {
          "base_uri": "https://localhost:8080/"
        },
        "id": "Ye99CtTNFeqk",
        "outputId": "828c0cfe-b27f-49f2-c5da-5e5cb8c9af0f"
      },
      "outputs": [
        {
          "data": {
            "text/plain": [
              "True"
            ]
          },
          "execution_count": 17,
          "metadata": {},
          "output_type": "execute_result"
        }
      ],
      "source": [
        "x == 1"
      ]
    },
    {
      "cell_type": "code",
      "execution_count": 18,
      "metadata": {
        "colab": {
          "base_uri": "https://localhost:8080/"
        },
        "id": "HNfxiDaSGAbS",
        "outputId": "838dfb71-7394-4f52-81e5-c6e6eb83537e"
      },
      "outputs": [
        {
          "data": {
            "text/plain": [
              "False"
            ]
          },
          "execution_count": 18,
          "metadata": {},
          "output_type": "execute_result"
        }
      ],
      "source": [
        "x == 2"
      ]
    },
    {
      "cell_type": "code",
      "execution_count": 19,
      "metadata": {
        "colab": {
          "base_uri": "https://localhost:8080/"
        },
        "id": "45uq9cNYGUwL",
        "outputId": "5a6a3b6a-17b7-4ece-cdcf-d52aa7ab473d"
      },
      "outputs": [
        {
          "data": {
            "text/plain": [
              "False"
            ]
          },
          "execution_count": 19,
          "metadata": {},
          "output_type": "execute_result"
        }
      ],
      "source": [
        "x < 0"
      ]
    },
    {
      "cell_type": "code",
      "execution_count": 20,
      "metadata": {
        "colab": {
          "base_uri": "https://localhost:8080/"
        },
        "id": "_EY_bW-qGa6M",
        "outputId": "d42c5cc7-2a95-4c82-d14c-0ed273a50c59"
      },
      "outputs": [
        {
          "data": {
            "text/plain": [
              "True"
            ]
          },
          "execution_count": 20,
          "metadata": {},
          "output_type": "execute_result"
        }
      ],
      "source": [
        "x >= 0"
      ]
    },
    {
      "cell_type": "code",
      "execution_count": 21,
      "metadata": {
        "colab": {
          "base_uri": "https://localhost:8080/"
        },
        "id": "3eA3A3ZqGiLo",
        "outputId": "3bcb5e3a-45e8-43c6-b7ab-e394a6227545"
      },
      "outputs": [
        {
          "data": {
            "text/plain": [
              "True"
            ]
          },
          "execution_count": 21,
          "metadata": {},
          "output_type": "execute_result"
        }
      ],
      "source": [
        "x != 0"
      ]
    },
    {
      "cell_type": "code",
      "execution_count": 25,
      "metadata": {
        "colab": {
          "base_uri": "https://localhost:8080/"
        },
        "id": "688CAV95Gmg6",
        "outputId": "6e845db2-f700-44cc-8fec-a51123b4df56"
      },
      "outputs": [
        {
          "data": {
            "text/plain": [
              "False"
            ]
          },
          "execution_count": 25,
          "metadata": {},
          "output_type": "execute_result"
        }
      ],
      "source": [
        "(x > 0) and (y < 2)"
      ]
    },
    {
      "cell_type": "code",
      "execution_count": 26,
      "metadata": {
        "colab": {
          "base_uri": "https://localhost:8080/"
        },
        "id": "vEQLwlNwGw6V",
        "outputId": "ce94b4c2-89c8-40e3-fc3f-33d9c0ee48c2"
      },
      "outputs": [
        {
          "data": {
            "text/plain": [
              "True"
            ]
          },
          "execution_count": 26,
          "metadata": {},
          "output_type": "execute_result"
        }
      ],
      "source": [
        "(x > 0) or (y < 2)"
      ]
    },
    {
      "cell_type": "markdown",
      "metadata": {
        "id": "ZjmtIayyHm3A"
      },
      "source": [
        ">Identação Obrigatória"
      ]
    },
    {
      "cell_type": "code",
      "execution_count": 31,
      "metadata": {
        "colab": {
          "base_uri": "https://localhost:8080/"
        },
        "id": "j5nweliXHrNW",
        "outputId": "cf1ffd4e-9090-4cfc-bf65-12452a7a70f6"
      },
      "outputs": [
        {
          "name": "stdout",
          "output_type": "stream",
          "text": [
            "x é maior do que zero\n"
          ]
        }
      ],
      "source": [
        "x = 5\n",
        "if (x > 0):\n",
        "  print('x é maior do que zero')\n",
        "else:\n",
        "  print('x é menor ou igual a zero')"
      ]
    },
    {
      "cell_type": "code",
      "execution_count": 34,
      "metadata": {
        "colab": {
          "base_uri": "https://localhost:8080/"
        },
        "id": "a03xW2lMItNb",
        "outputId": "df138493-d4e7-434c-fa12-2b137122fdb5"
      },
      "outputs": [
        {
          "name": "stdout",
          "output_type": "stream",
          "text": [
            "x é zero\n"
          ]
        }
      ],
      "source": [
        "x = 0\n",
        "if (x > 0):\n",
        "  print('x é maior do que zero')\n",
        "elif(x == 0):\n",
        "  print('x é zero')\n",
        "else:\n",
        "  print('x é menor ou igual a zero')"
      ]
    },
    {
      "cell_type": "markdown",
      "metadata": {
        "id": "JiAZo1dAJSU3"
      },
      "source": [
        "##For"
      ]
    },
    {
      "cell_type": "code",
      "execution_count": 50,
      "metadata": {
        "colab": {
          "base_uri": "https://localhost:8080/"
        },
        "id": "imnha4QfJVXq",
        "outputId": "b112d036-6d47-4e8f-85d8-d87bea695a17"
      },
      "outputs": [
        {
          "data": {
            "text/plain": [
              "[0, 1, 2, 3, 4, 5, 6, 7, 8, 9]"
            ]
          },
          "execution_count": 50,
          "metadata": {},
          "output_type": "execute_result"
        }
      ],
      "source": [
        "contador = [0,1,2,3,4,5,6,7,8,9]\n",
        "contador"
      ]
    },
    {
      "cell_type": "code",
      "execution_count": 51,
      "metadata": {
        "colab": {
          "base_uri": "https://localhost:8080/"
        },
        "id": "tm1BUFGxJnfU",
        "outputId": "462a84d5-6fd9-47cf-a12b-74493474e724"
      },
      "outputs": [
        {
          "name": "stdout",
          "output_type": "stream",
          "text": [
            "0\n",
            "1\n",
            "2\n",
            "3\n",
            "4\n",
            "5\n",
            "6\n",
            "7\n",
            "8\n",
            "9\n"
          ]
        }
      ],
      "source": [
        "for valor in contador:\n",
        "  print(valor)"
      ]
    },
    {
      "cell_type": "code",
      "execution_count": 52,
      "metadata": {
        "id": "iHgrYMLTKIOc"
      },
      "outputs": [],
      "source": [
        "range?"
      ]
    },
    {
      "cell_type": "code",
      "execution_count": 55,
      "metadata": {
        "colab": {
          "base_uri": "https://localhost:8080/"
        },
        "id": "xSo_ZfJNK7d3",
        "outputId": "e1357498-08df-4d01-92b5-f3f09f1aa528"
      },
      "outputs": [
        {
          "name": "stdout",
          "output_type": "stream",
          "text": [
            "0\n",
            "1\n",
            "2\n",
            "3\n",
            "4\n",
            "5\n",
            "6\n",
            "7\n",
            "8\n",
            "9\n"
          ]
        }
      ],
      "source": [
        "for valor in range(10):\n",
        "  print(valor)"
      ]
    },
    {
      "cell_type": "code",
      "execution_count": 56,
      "metadata": {
        "colab": {
          "base_uri": "https://localhost:8080/"
        },
        "id": "UwhdKkOvLD--",
        "outputId": "37fc5066-523b-4190-ce2e-581cfa24120a"
      },
      "outputs": [
        {
          "name": "stdout",
          "output_type": "stream",
          "text": [
            "4\n",
            "6\n",
            "8\n",
            "10\n",
            "12\n",
            "14\n",
            "16\n"
          ]
        }
      ],
      "source": [
        "for i in range(4,18,2):\n",
        "  print(i)"
      ]
    },
    {
      "cell_type": "code",
      "execution_count": 59,
      "metadata": {
        "colab": {
          "base_uri": "https://localhost:8080/"
        },
        "id": "HTDBX0FqMFGs",
        "outputId": "7b89f80b-a39e-4afb-a8e6-46b58aa43116"
      },
      "outputs": [
        {
          "data": {
            "text/plain": [
              "['São Paulo', 'Brasília', 'Curitiba']"
            ]
          },
          "execution_count": 59,
          "metadata": {},
          "output_type": "execute_result"
        }
      ],
      "source": [
        "cidades = ['São Paulo', 'Brasília', 'Curitiba']\n",
        "cidades"
      ]
    },
    {
      "cell_type": "code",
      "execution_count": 63,
      "metadata": {
        "colab": {
          "base_uri": "https://localhost:8080/"
        },
        "id": "m8fDzHfQMX1t",
        "outputId": "fb1914fc-8ce0-4df5-986d-ab8ca5712c1b"
      },
      "outputs": [
        {
          "name": "stdout",
          "output_type": "stream",
          "text": [
            "Já morei em São Paulo\n",
            "Já morei em Brasília\n",
            "Já morei em Curitiba\n"
          ]
        }
      ],
      "source": [
        "for cidade in cidades:\n",
        "  print('Já morei em '+ cidade)"
      ]
    },
    {
      "cell_type": "code",
      "execution_count": 65,
      "metadata": {
        "colab": {
          "base_uri": "https://localhost:8080/"
        },
        "id": "5rvfcZVBM2K1",
        "outputId": "f09f23fc-8aa5-4163-b6a9-5ad4e0ee0780"
      },
      "outputs": [
        {
          "data": {
            "text/plain": [
              "[1, 2, 3, 'cachorro', 'gato', 'papagaio']"
            ]
          },
          "execution_count": 65,
          "metadata": {},
          "output_type": "execute_result"
        }
      ],
      "source": [
        "minha_lista = [1,2,3, 'cachorro', 'gato', 'papagaio']\n",
        "minha_lista"
      ]
    },
    {
      "cell_type": "code",
      "execution_count": 67,
      "metadata": {
        "colab": {
          "base_uri": "https://localhost:8080/"
        },
        "id": "CVf4C5hkNUGv",
        "outputId": "62ab601e-79b4-4edc-ba80-f054da47de11"
      },
      "outputs": [
        {
          "name": "stdout",
          "output_type": "stream",
          "text": [
            "1\n",
            "2\n",
            "3\n",
            "cachorro\n",
            "gato\n",
            "papagaio\n"
          ]
        }
      ],
      "source": [
        "for cada_item in minha_lista:\n",
        "  print(cada_item)"
      ]
    },
    {
      "cell_type": "markdown",
      "metadata": {
        "id": "a63toquXONLf"
      },
      "source": [
        "##While"
      ]
    },
    {
      "cell_type": "code",
      "execution_count": 68,
      "metadata": {
        "colab": {
          "base_uri": "https://localhost:8080/"
        },
        "id": "TzaknxJ8OP09",
        "outputId": "66c1d1fb-b7e1-4675-eb26-1b9c3fea0f68"
      },
      "outputs": [
        {
          "name": "stdout",
          "output_type": "stream",
          "text": [
            "0\n",
            "1\n",
            "2\n",
            "3\n",
            "4\n"
          ]
        }
      ],
      "source": [
        "x = 0\n",
        "while x < 5:\n",
        "  print(x)\n",
        "  x = x + 1"
      ]
    },
    {
      "cell_type": "markdown",
      "metadata": {
        "id": "V0n_w9N2Opnk"
      },
      "source": [
        "##List Comprehension"
      ]
    },
    {
      "cell_type": "code",
      "execution_count": 75,
      "metadata": {
        "colab": {
          "base_uri": "https://localhost:8080/"
        },
        "id": "cCIkyBqdOxep",
        "outputId": "e6b3e7e6-5008-4a0c-e49a-e24e4e73798a"
      },
      "outputs": [
        {
          "data": {
            "text/plain": [
              "[0, 1, 4, 9, 16, 25, 36, 49, 64, 81]"
            ]
          },
          "execution_count": 75,
          "metadata": {},
          "output_type": "execute_result"
        }
      ],
      "source": [
        "quadrados =[]\n",
        "for numero in range(10):\n",
        "  quadrados.append(numero**2)\n",
        "\n",
        "quadrados"
      ]
    },
    {
      "cell_type": "markdown",
      "metadata": {
        "id": "q_-SeUgvPo0D"
      },
      "source": [
        ">Uma maneira mais concisa de criar listas"
      ]
    },
    {
      "cell_type": "code",
      "execution_count": 76,
      "metadata": {
        "colab": {
          "base_uri": "https://localhost:8080/"
        },
        "id": "DGs_DodxPvbq",
        "outputId": "41dbfaa2-c9b5-46f4-f0fa-c215ae2b39b0"
      },
      "outputs": [
        {
          "data": {
            "text/plain": [
              "[0, 1, 4, 9, 16, 25, 36, 49, 64, 81]"
            ]
          },
          "execution_count": 76,
          "metadata": {},
          "output_type": "execute_result"
        }
      ],
      "source": [
        "quad = [x**2 for x in range(10)]\n",
        "quad"
      ]
    },
    {
      "cell_type": "markdown",
      "metadata": {
        "id": "nCIG1k4UQDE1"
      },
      "source": [
        "##Funções"
      ]
    },
    {
      "cell_type": "markdown",
      "metadata": {
        "id": "uBECEe9lQp0v"
      },
      "source": [
        ">Função que não retorna valor"
      ]
    },
    {
      "cell_type": "code",
      "execution_count": 78,
      "metadata": {
        "id": "5xQB9npiQvDR"
      },
      "outputs": [],
      "source": [
        "def exibir_mensagem(parametro):\n",
        "  print('Mensagem >> ' + parametro)"
      ]
    },
    {
      "cell_type": "code",
      "execution_count": 79,
      "metadata": {
        "colab": {
          "base_uri": "https://localhost:8080/"
        },
        "id": "2WSrdliRRCfj",
        "outputId": "0fa28368-e0f3-439b-b578-43e60d52a6ae"
      },
      "outputs": [
        {
          "name": "stdout",
          "output_type": "stream",
          "text": [
            "Mensagem >> Olá!!!\n"
          ]
        }
      ],
      "source": [
        "exibir_mensagem('Olá!!!')"
      ]
    },
    {
      "cell_type": "code",
      "execution_count": 80,
      "metadata": {
        "colab": {
          "base_uri": "https://localhost:8080/"
        },
        "id": "lIEYFpg2RopP",
        "outputId": "60bf9547-a271-46f2-8c43-627022ae28dd"
      },
      "outputs": [
        {
          "name": "stdout",
          "output_type": "stream",
          "text": [
            "Mensagem >> Tudo bem?\n"
          ]
        }
      ],
      "source": [
        "exibir_mensagem('Tudo bem?')"
      ]
    },
    {
      "cell_type": "code",
      "execution_count": 83,
      "metadata": {
        "id": "h33GzGqBR_Qr"
      },
      "outputs": [],
      "source": [
        "def exibir_dados(nome, idade):\n",
        "  print('Meu nome é {}'.format(nome))\n",
        "  print('Tenho {} anos'.format(idade))"
      ]
    },
    {
      "cell_type": "code",
      "execution_count": 84,
      "metadata": {
        "colab": {
          "base_uri": "https://localhost:8080/"
        },
        "id": "U_9JAdJiSYng",
        "outputId": "a3166bea-44c5-47be-c6fa-5a248e0a0bd4"
      },
      "outputs": [
        {
          "name": "stdout",
          "output_type": "stream",
          "text": [
            "Meu nome é Maria\n",
            "Tenho 35 anos\n"
          ]
        }
      ],
      "source": [
        "exibir_dados('Maria', 35)"
      ]
    },
    {
      "cell_type": "markdown",
      "metadata": {
        "id": "9d_11K5rS9zN"
      },
      "source": [
        ">Função que retorna valor"
      ]
    },
    {
      "cell_type": "code",
      "execution_count": 85,
      "metadata": {
        "id": "DTgtgzTJTA7I"
      },
      "outputs": [],
      "source": [
        "def elevar_ao_quadrado(numero):\n",
        "  return numero ** 2"
      ]
    },
    {
      "cell_type": "code",
      "execution_count": 86,
      "metadata": {
        "colab": {
          "base_uri": "https://localhost:8080/"
        },
        "id": "_TWgszCmTKsE",
        "outputId": "4121753b-539a-4668-f641-e21bedf6c9eb"
      },
      "outputs": [
        {
          "data": {
            "text/plain": [
              "4"
            ]
          },
          "execution_count": 86,
          "metadata": {},
          "output_type": "execute_result"
        }
      ],
      "source": [
        "elevar_ao_quadrado(2)"
      ]
    },
    {
      "cell_type": "code",
      "execution_count": 87,
      "metadata": {
        "colab": {
          "base_uri": "https://localhost:8080/"
        },
        "id": "w-gzBQjGTb6y",
        "outputId": "f9e72dd8-1af3-4e69-b924-0f5dec691ecc"
      },
      "outputs": [
        {
          "data": {
            "text/plain": [
              "484"
            ]
          },
          "execution_count": 87,
          "metadata": {},
          "output_type": "execute_result"
        }
      ],
      "source": [
        "elevar_ao_quadrado(22)"
      ]
    },
    {
      "cell_type": "markdown",
      "metadata": {
        "id": "EV5EE7B5Tm5y"
      },
      "source": [
        "##Bibliotecas"
      ]
    },
    {
      "cell_type": "markdown",
      "metadata": {
        "id": "MFEgME-rTqzp"
      },
      "source": [
        ">Já instaladas no Ambiente (Google Colab)"
      ]
    },
    {
      "cell_type": "code",
      "execution_count": 88,
      "metadata": {
        "id": "VLrs5oC9TxtA"
      },
      "outputs": [],
      "source": [
        "import numpy"
      ]
    },
    {
      "cell_type": "code",
      "execution_count": 89,
      "metadata": {
        "colab": {
          "base_uri": "https://localhost:8080/"
        },
        "id": "VKn0UBtlT1K3",
        "outputId": "5af81d78-6aaa-4644-946d-629e58515b26"
      },
      "outputs": [
        {
          "data": {
            "text/plain": [
              "array([1., 1., 1., 1., 1.])"
            ]
          },
          "execution_count": 89,
          "metadata": {},
          "output_type": "execute_result"
        }
      ],
      "source": [
        "numpy.ones(5)"
      ]
    },
    {
      "cell_type": "code",
      "execution_count": 90,
      "metadata": {
        "id": "R9NZEW-jT8s3"
      },
      "outputs": [],
      "source": [
        "import numpy as np"
      ]
    },
    {
      "cell_type": "code",
      "execution_count": 92,
      "metadata": {
        "colab": {
          "base_uri": "https://localhost:8080/"
        },
        "id": "jjYZVgm7UEdK",
        "outputId": "9a96ea4e-33a0-4d57-e9ae-1c29c4e24834"
      },
      "outputs": [
        {
          "data": {
            "text/plain": [
              "array([1., 1., 1., 1., 1., 1.])"
            ]
          },
          "execution_count": 92,
          "metadata": {},
          "output_type": "execute_result"
        }
      ],
      "source": [
        "np.ones(6)"
      ]
    },
    {
      "cell_type": "code",
      "execution_count": 93,
      "metadata": {
        "id": "Up0z3v0mUVpz"
      },
      "outputs": [],
      "source": [
        "from numpy import ones"
      ]
    },
    {
      "cell_type": "code",
      "execution_count": 94,
      "metadata": {
        "colab": {
          "base_uri": "https://localhost:8080/"
        },
        "id": "QyavlNVZUbc_",
        "outputId": "51dd5eb2-ea44-4f30-a62c-c566057509ea"
      },
      "outputs": [
        {
          "data": {
            "text/plain": [
              "array([1., 1., 1., 1., 1., 1.])"
            ]
          },
          "execution_count": 94,
          "metadata": {},
          "output_type": "execute_result"
        }
      ],
      "source": [
        "ones(6)"
      ]
    },
    {
      "cell_type": "markdown",
      "metadata": {
        "id": "eKFr9H4KUhYA"
      },
      "source": [
        ">Instalando Bibliotecas Externas (um exemplo abaixo)"
      ]
    },
    {
      "cell_type": "code",
      "execution_count": null,
      "metadata": {
        "id": "_hNZ2cxpUm1B"
      },
      "outputs": [],
      "source": [
        " !pip install yfinance"
      ]
    },
    {
      "cell_type": "code",
      "execution_count": 98,
      "metadata": {
        "id": "QuUSRMreU4mY"
      },
      "outputs": [],
      "source": [
        "import yfinance as yf"
      ]
    },
    {
      "cell_type": "code",
      "execution_count": null,
      "metadata": {
        "id": "TjyxZpl-VnJZ"
      },
      "outputs": [],
      "source": [
        "yf.download('^BVSp')"
      ]
    }
  ],
  "metadata": {
    "colab": {
      "authorship_tag": "ABX9TyMlcLg3ZeOC/bhcN73HqN7t",
      "include_colab_link": true,
      "provenance": []
    },
    "kernelspec": {
      "display_name": "Python 3",
      "name": "python3"
    },
    "language_info": {
      "name": "python"
    }
  },
  "nbformat": 4,
  "nbformat_minor": 0
}
